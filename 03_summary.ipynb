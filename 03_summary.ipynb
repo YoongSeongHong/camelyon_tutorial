{
 "cells": [
  {
   "cell_type": "code",
   "execution_count": 2,
   "metadata": {},
   "outputs": [],
   "source": [
    "import sys\n",
    "sys.path.append('C:\\\\Program Files\\\\ASAP 2.2\\\\bin')\n",
    "\n",
    "import multiresolutionimageinterface as mir\n",
    "import cv2\n",
    "from tqdm import tqdm_notebook\n",
    "import numpy as np\n",
    "import os\n",
    "import matplotlib.pyplot as plt\n",
    "import pandas as pd\n"
   ]
  },
  {
   "cell_type": "code",
   "execution_count": 14,
   "metadata": {},
   "outputs": [],
   "source": [
    "def getTissueMask(tifPath):\n",
    "    maskPath = tifPath.replace('.tif', '_tissue_mask_ds16.npy')\n",
    "    if (not os.path.isfile(maskPath)): return None\n",
    "    return np.load(maskPath)"
   ]
  },
  {
   "cell_type": "code",
   "execution_count": 3,
   "metadata": {},
   "outputs": [],
   "source": [
    "# 샘플(패치) 중심위치 생성 함수\n",
    "def sample_centers(tissue_mask, mask_downscale=16, sample_side=256, focus_width_percentage=0.25, padding_percentage=0.01):\n",
    "    # 조직 마스크의 가로 ,세로\n",
    "    mask_width, mask_height = tissue_mask.shape[:2]\n",
    "\n",
    "    # 샘플 사이즈\n",
    "    side = sample_side / mask_downscale\n",
    "\n",
    "    # 패딩 크기\n",
    "    padding_width = mask_width*padding_percentage\n",
    "    padding_height = mask_height*padding_percentage\n",
    "\n",
    "    # 포커스 영역의 반 너비\n",
    "    half_focus = int(sample_side*focus_width_percentage / mask_downscale)\n",
    "    \n",
    "    # 샘플 중심 좌표를 저장할 리스트\n",
    "    sample_centers = []\n",
    "    \n",
    "    # 조직이 존재하는 영역 기반으로 샘플 중심을 결정\n",
    "    for i in range(int(mask_width // side)):\n",
    "        for j in range(int(mask_height // side)):\n",
    "            for sub_shift in [0, 0.5]:\n",
    "                x = int((i+sub_shift) * side)\n",
    "                y = int((j+sub_shift) * side)\n",
    "                min_x = int(max(0, x - half_focus))\n",
    "                max_x = int(min(x + half_focus, mask_width - 1))\n",
    "                min_y = int(max(0, y - half_focus))\n",
    "                max_y = int(min(y + half_focus, mask_height - 1))\n",
    "                \n",
    "                # 패딩 영역의 샘플은 건너뜀\n",
    "                if(min_x < padding_width or max_x > mask_width-padding_width): continue\n",
    "                if(min_y < padding_height or max_y > mask_height-padding_height): continue\n",
    "                \n",
    "                # 조직이 존재하는 영역만 샘플로 추가\n",
    "                if(tissue_mask[min_x:max_x, min_y:max_y].sum() > 0):\n",
    "                    sample_centers.append(np.array([x, y]))\n",
    "                    \n",
    "    # 마스크 다운스케일을 복원하여 좌표 계산\n",
    "    sample_centers = np.array(sample_centers) * mask_downscale\n",
    "    return sample_centers"
   ]
  },
  {
   "cell_type": "code",
   "execution_count": 4,
   "metadata": {},
   "outputs": [],
   "source": [
    "# tissue mask 가져오기\n",
    "def getTissueMask(tifPath):\n",
    "    maskPath = tifPath.replace('.tif', '_tissue_mask_ds16.npy')\n",
    "    if (not os.path.isfile(maskPath)): return None\n",
    "    return np.load(maskPath)"
   ]
  },
  {
   "cell_type": "code",
   "execution_count": 5,
   "metadata": {},
   "outputs": [],
   "source": [
    "import colorsys\n",
    "\n",
    "# 패치 내 종양이 있는지 \n",
    "def isTumor(mask_level_0):\n",
    "    return (mask_level_0.max() > 0)\n",
    "\n",
    "# 패치 내 종양의 비율\n",
    "def tumorPercentage(mask_level_0):\n",
    "    area = mask_level_0.shape[0] * mask_level_0.shape[1]\n",
    "    tumorPixels = np.count_nonzero(mask_level_0)\n",
    "    channels = 3\n",
    "    return tumorPixels / (area * channels)\n",
    "\n",
    "# 패치 내 조직의 비율\n",
    "def tissuePercentage(tissueMask):\n",
    "    area = tissueMask.shape[0] * tissueMask.shape[1]\n",
    "    tissuePixels = np.count_nonzero(tissueMask)\n",
    "    return tissuePixels / area\n",
    "\n",
    "# 색 평균\n",
    "def colorMean(tissue):\n",
    "    (b,g,r,a) = cv2.mean(tissue)\n",
    "    return np.array([r,g,b])/255\n",
    "\n",
    "# rgb를 hsv로\n",
    "def rgb2hsv(rgb):\n",
    "    return colorsys.rgb_to_hsv(rgb[0], rgb[1], rgb[2])"
   ]
  },
  {
   "cell_type": "code",
   "execution_count": 6,
   "metadata": {},
   "outputs": [],
   "source": [
    "reader = mir.MultiResolutionImageReader()\n",
    "\n",
    "# 이미지 불러오기\n",
    "def getImage(tifPath):\n",
    "    if (not os.path.isfile(tifPath)): return None\n",
    "    return reader.open(tifPath)\n",
    "\n",
    "# mask 파일(종양인 것만) 불러오기\n",
    "def getAnnoMask(tifPath):\n",
    "    maskPath = tifPath.replace('.tif', '_mask.tif')\n",
    "    if (not os.path.isfile(maskPath)): return None\n",
    "    return reader.open(maskPath)"
   ]
  },
  {
   "cell_type": "code",
   "execution_count": 7,
   "metadata": {},
   "outputs": [],
   "source": [
    "# x, y center 입력을 받아서 x1, x2, y1, y2로 변환\n",
    "def center2Bounds(center,ds=1, side=256):\n",
    "    ''' Get an array of [x1,x2,y1,y2] from a center point in a set downsampling scale\n",
    "    Args:\n",
    "        center (int array of x,y): center point coordinate\n",
    "        ds (int): downsampling scale\n",
    "        side (int): size of the box side (default 256)\n",
    "    '''\n",
    "    assert center.shape[0] == 2, \"Invalid center point shape. Got {0} but expected (2,)\".format(center.shape)\n",
    "    half_side = int((side / ds) // 2)\n",
    "    return np.array([center[1]//ds-half_side,\n",
    "                    center[1]//ds+half_side,\n",
    "                    center[0]//ds-half_side,\n",
    "                    center[0]//ds+half_side], dtype=np.int32)"
   ]
  },
  {
   "cell_type": "code",
   "execution_count": 8,
   "metadata": {},
   "outputs": [],
   "source": [
    "# 중심 값을 매개변수로 받아 이미지 패치, 조직 마스크, annotation mask를 반환\n",
    "def getPatchAndMasks(mr_image, mr_mask, tissue_mask,center, side=256):\n",
    "    patch_bounds = center2Bounds(center)\n",
    "    mask_bounds = center2Bounds(center, ds=16)\n",
    "    \n",
    "    channels = 3\n",
    "    annoMask = np.zeros((side, side, channels), dtype=np.uint8)\n",
    "\n",
    "    img = mr_image.getUCharPatch(int(patch_bounds[0]),\n",
    "                                 int(patch_bounds[2]),\n",
    "                                 side,\n",
    "                                 side,\n",
    "                                 0)\n",
    "    \n",
    "    tissueMask = tissue_mask[mask_bounds[2]:mask_bounds[3],mask_bounds[0]:mask_bounds[1]]\n",
    "    if mr_mask is not None:\n",
    "        annoMask = mr_mask.getUCharPatch(int(patch_bounds[0]),\n",
    "                                     int(patch_bounds[2]),\n",
    "                                     side,\n",
    "                                     side,\n",
    "                                     0)\n",
    "    return img, tissueMask, np.array(annoMask)"
   ]
  },
  {
   "cell_type": "code",
   "execution_count": 9,
   "metadata": {},
   "outputs": [],
   "source": [
    "dirData = '../data/training/'\n",
    "ImageFiles = []\n",
    "# r=root, d=directories, f = files\n",
    "for r, d, f in os.walk(dirData):\n",
    "    for file in f:\n",
    "        if '.tif' in file and 'mask' not in file:\n",
    "            ImageFiles.append(r + '/' + file)"
   ]
  },
  {
   "cell_type": "code",
   "execution_count": 10,
   "metadata": {},
   "outputs": [
    {
     "data": {
      "text/plain": [
       "['../data/training/center_0/patient_001_node_1.tif',\n",
       " '../data/training/center_0/patient_004_node_0.tif',\n",
       " '../data/training/center_0/patient_004_node_1.tif',\n",
       " '../data/training/center_0/patient_004_node_2.tif',\n",
       " '../data/training/center_0/patient_004_node_3.tif',\n",
       " '../data/training/center_0/patient_004_node_4.tif']"
      ]
     },
     "execution_count": 10,
     "metadata": {},
     "output_type": "execute_result"
    }
   ],
   "source": [
    "ImageFiles"
   ]
  },
  {
   "cell_type": "code",
   "execution_count": 11,
   "metadata": {},
   "outputs": [],
   "source": [
    "# 한 wsi 파일을 패치로 쪼개고, 패치 별 annotation을 저장하는 csv파일 생성\n",
    "def CreateDF(tifPath, overrideExisting=False):\n",
    "    \n",
    "    # 파일 명만 저장\n",
    "    fileNamePart = tifPath.replace('.tif','').replace(dirData, \"\")\n",
    "    df_path = '../data/training/dataframes/' + fileNamePart.split('/')[1] + '.csv'\n",
    "    \n",
    "    if (os.path.isfile(df_path) and overrideExisting == False):\n",
    "        print('Info - Dataframe file of {0} already exists - skipping'.format(tifPath))\n",
    "        return\n",
    "    \n",
    "    tissue_mask = getTissueMask(tifPath)\n",
    "    patch_centers = sample_centers(tissue_mask)\n",
    "\n",
    "    print(\"Sliced WSI {1} to {0} pathes.\".format(len(patch_centers), tifPath))\n",
    "    \n",
    "    # 현재 이미지 파일/ 마스크 파일 불러오기\n",
    "    mr_image = getImage(tifPath)\n",
    "    mr_mask = getAnnoMask(tifPath)\n",
    "    \n",
    "    df = pd.DataFrame(columns=['patchId',\n",
    "                               'fileName',\n",
    "                               'center',\n",
    "                               'patient',\n",
    "                               'node',\n",
    "                               'centerX',\n",
    "                               'centerY',\n",
    "                               'isTumor',\n",
    "                               'tumorPercentage',\n",
    "                               'tissuePercentage',\n",
    "                               'meanHue',\n",
    "                               'meanSaturation',\n",
    "                               'meanValue'])\n",
    "    \n",
    "    # 디렉토리가 다르다면 바꿔야 합니다.\n",
    "    split = tifPath.split('/')\n",
    "    cnt = int(split[3].strip('center_'))\n",
    "    splitpatient = split[4].split('_')\n",
    "    patient = int(splitpatient[1])\n",
    "    node = int(splitpatient[3].strip('.tif'))\n",
    "    \n",
    "    for c in tqdm_notebook(patch_centers, 'Patches...'):\n",
    "        img,tissue,anno = getPatchAndMasks(mr_image, mr_mask, tissue_mask, c)\n",
    "        isTumor_attr = isTumor(anno)\n",
    "        tumorPrc_attr = tumorPercentage(anno)\n",
    "        tissuePrc_attr = tissuePercentage(tissue)\n",
    "        colorMean_attr = colorMean(img)\n",
    "        (mean_h, mean_s, mean_v) = rgb2hsv(colorMean_attr)\n",
    "        \n",
    "        df = df._append({'patchId': str(patient)+str(0)+str(c[0]).zfill(7)+str(c[1]).zfill(7),\n",
    "                       'fileName': tifPath,\n",
    "                       'center': cnt,\n",
    "                      'patient': patient,\n",
    "                      'node': node,\n",
    "                      'centerX':c[0],\n",
    "                      'centerY':c[1],\n",
    "                      'isTumor':isTumor_attr,\n",
    "                      'tumorPercentage': int(tumorPrc_attr * 1000)/10,\n",
    "                      'tissuePercentage': int(tissuePrc_attr * 1000)/10,\n",
    "                      'meanHue': int(mean_h * 100)/100,\n",
    "                      'meanSaturation': int(mean_s * 100)/100,\n",
    "                      'meanValue': int(mean_v * 100)/100}, ignore_index=True)\n",
    "        \n",
    "    df.to_csv(df_path)"
   ]
  },
  {
   "cell_type": "code",
   "execution_count": 12,
   "metadata": {},
   "outputs": [
    {
     "name": "stderr",
     "output_type": "stream",
     "text": [
      "C:\\Users\\songhow53\\AppData\\Local\\Temp\\ipykernel_22936\\3206717726.py:1: TqdmDeprecationWarning: This function will be removed in tqdm==5.0.0\n",
      "Please use `tqdm.notebook.tqdm` instead of `tqdm.tqdm_notebook`\n",
      "  for f in tqdm_notebook(ImageFiles, 'Creating dataframes...'):\n"
     ]
    },
    {
     "data": {
      "application/vnd.jupyter.widget-view+json": {
       "model_id": "668c036494e742afa1085648cec0c150",
       "version_major": 2,
       "version_minor": 0
      },
      "text/plain": [
       "Creating dataframes...:   0%|          | 0/6 [00:00<?, ?it/s]"
      ]
     },
     "metadata": {},
     "output_type": "display_data"
    },
    {
     "name": "stdout",
     "output_type": "stream",
     "text": [
      "Info - Dataframe file of ../data/training/center_0/patient_001_node_1.tif already exists - skipping\n",
      "Sliced WSI ../data/training/center_0/patient_004_node_0.tif to 38723 pathes.\n"
     ]
    },
    {
     "name": "stderr",
     "output_type": "stream",
     "text": [
      "C:\\Users\\songhow53\\AppData\\Local\\Temp\\ipykernel_22936\\4212935123.py:41: TqdmDeprecationWarning: This function will be removed in tqdm==5.0.0\n",
      "Please use `tqdm.notebook.tqdm` instead of `tqdm.tqdm_notebook`\n",
      "  for c in tqdm_notebook(patch_centers, 'Patches...'):\n"
     ]
    },
    {
     "data": {
      "application/vnd.jupyter.widget-view+json": {
       "model_id": "e5cf742b36b6454499b813191ff59942",
       "version_major": 2,
       "version_minor": 0
      },
      "text/plain": [
       "Patches...:   0%|          | 0/38723 [00:00<?, ?it/s]"
      ]
     },
     "metadata": {},
     "output_type": "display_data"
    },
    {
     "name": "stderr",
     "output_type": "stream",
     "text": [
      "C:\\Users\\songhow53\\AppData\\Local\\Temp\\ipykernel_22936\\4212935123.py:49: FutureWarning: The behavior of DataFrame concatenation with empty or all-NA entries is deprecated. In a future version, this will no longer exclude empty or all-NA columns when determining the result dtypes. To retain the old behavior, exclude the relevant entries before the concat operation.\n",
      "  df = df._append({'patchId': str(patient)+str(0)+str(c[0]).zfill(7)+str(c[1]).zfill(7),\n"
     ]
    },
    {
     "name": "stdout",
     "output_type": "stream",
     "text": [
      "Sliced WSI ../data/training/center_0/patient_004_node_1.tif to 12270 pathes.\n"
     ]
    },
    {
     "name": "stderr",
     "output_type": "stream",
     "text": [
      "C:\\Users\\songhow53\\AppData\\Local\\Temp\\ipykernel_22936\\4212935123.py:41: TqdmDeprecationWarning: This function will be removed in tqdm==5.0.0\n",
      "Please use `tqdm.notebook.tqdm` instead of `tqdm.tqdm_notebook`\n",
      "  for c in tqdm_notebook(patch_centers, 'Patches...'):\n"
     ]
    },
    {
     "data": {
      "application/vnd.jupyter.widget-view+json": {
       "model_id": "d7b8b1b880a14c53839d24611888d614",
       "version_major": 2,
       "version_minor": 0
      },
      "text/plain": [
       "Patches...:   0%|          | 0/12270 [00:00<?, ?it/s]"
      ]
     },
     "metadata": {},
     "output_type": "display_data"
    },
    {
     "name": "stderr",
     "output_type": "stream",
     "text": [
      "C:\\Users\\songhow53\\AppData\\Local\\Temp\\ipykernel_22936\\4212935123.py:49: FutureWarning: The behavior of DataFrame concatenation with empty or all-NA entries is deprecated. In a future version, this will no longer exclude empty or all-NA columns when determining the result dtypes. To retain the old behavior, exclude the relevant entries before the concat operation.\n",
      "  df = df._append({'patchId': str(patient)+str(0)+str(c[0]).zfill(7)+str(c[1]).zfill(7),\n"
     ]
    },
    {
     "name": "stdout",
     "output_type": "stream",
     "text": [
      "Sliced WSI ../data/training/center_0/patient_004_node_2.tif to 52337 pathes.\n"
     ]
    },
    {
     "name": "stderr",
     "output_type": "stream",
     "text": [
      "C:\\Users\\songhow53\\AppData\\Local\\Temp\\ipykernel_22936\\4212935123.py:41: TqdmDeprecationWarning: This function will be removed in tqdm==5.0.0\n",
      "Please use `tqdm.notebook.tqdm` instead of `tqdm.tqdm_notebook`\n",
      "  for c in tqdm_notebook(patch_centers, 'Patches...'):\n"
     ]
    },
    {
     "data": {
      "application/vnd.jupyter.widget-view+json": {
       "model_id": "04c923b88d354e748ba1d05f76be91a2",
       "version_major": 2,
       "version_minor": 0
      },
      "text/plain": [
       "Patches...:   0%|          | 0/52337 [00:00<?, ?it/s]"
      ]
     },
     "metadata": {},
     "output_type": "display_data"
    },
    {
     "name": "stderr",
     "output_type": "stream",
     "text": [
      "C:\\Users\\songhow53\\AppData\\Local\\Temp\\ipykernel_22936\\4212935123.py:49: FutureWarning: The behavior of DataFrame concatenation with empty or all-NA entries is deprecated. In a future version, this will no longer exclude empty or all-NA columns when determining the result dtypes. To retain the old behavior, exclude the relevant entries before the concat operation.\n",
      "  df = df._append({'patchId': str(patient)+str(0)+str(c[0]).zfill(7)+str(c[1]).zfill(7),\n"
     ]
    },
    {
     "name": "stdout",
     "output_type": "stream",
     "text": [
      "Sliced WSI ../data/training/center_0/patient_004_node_3.tif to 56626 pathes.\n"
     ]
    },
    {
     "name": "stderr",
     "output_type": "stream",
     "text": [
      "C:\\Users\\songhow53\\AppData\\Local\\Temp\\ipykernel_22936\\4212935123.py:41: TqdmDeprecationWarning: This function will be removed in tqdm==5.0.0\n",
      "Please use `tqdm.notebook.tqdm` instead of `tqdm.tqdm_notebook`\n",
      "  for c in tqdm_notebook(patch_centers, 'Patches...'):\n"
     ]
    },
    {
     "data": {
      "application/vnd.jupyter.widget-view+json": {
       "model_id": "a45fe6339c8c43968531652557f68dca",
       "version_major": 2,
       "version_minor": 0
      },
      "text/plain": [
       "Patches...:   0%|          | 0/56626 [00:00<?, ?it/s]"
      ]
     },
     "metadata": {},
     "output_type": "display_data"
    },
    {
     "name": "stderr",
     "output_type": "stream",
     "text": [
      "C:\\Users\\songhow53\\AppData\\Local\\Temp\\ipykernel_22936\\4212935123.py:49: FutureWarning: The behavior of DataFrame concatenation with empty or all-NA entries is deprecated. In a future version, this will no longer exclude empty or all-NA columns when determining the result dtypes. To retain the old behavior, exclude the relevant entries before the concat operation.\n",
      "  df = df._append({'patchId': str(patient)+str(0)+str(c[0]).zfill(7)+str(c[1]).zfill(7),\n"
     ]
    },
    {
     "name": "stdout",
     "output_type": "stream",
     "text": [
      "Sliced WSI ../data/training/center_0/patient_004_node_4.tif to 60454 pathes.\n"
     ]
    },
    {
     "name": "stderr",
     "output_type": "stream",
     "text": [
      "C:\\Users\\songhow53\\AppData\\Local\\Temp\\ipykernel_22936\\4212935123.py:41: TqdmDeprecationWarning: This function will be removed in tqdm==5.0.0\n",
      "Please use `tqdm.notebook.tqdm` instead of `tqdm.tqdm_notebook`\n",
      "  for c in tqdm_notebook(patch_centers, 'Patches...'):\n"
     ]
    },
    {
     "data": {
      "application/vnd.jupyter.widget-view+json": {
       "model_id": "c3b3fc35f1f84aceb115446a665da261",
       "version_major": 2,
       "version_minor": 0
      },
      "text/plain": [
       "Patches...:   0%|          | 0/60454 [00:00<?, ?it/s]"
      ]
     },
     "metadata": {},
     "output_type": "display_data"
    },
    {
     "name": "stderr",
     "output_type": "stream",
     "text": [
      "C:\\Users\\songhow53\\AppData\\Local\\Temp\\ipykernel_22936\\4212935123.py:49: FutureWarning: The behavior of DataFrame concatenation with empty or all-NA entries is deprecated. In a future version, this will no longer exclude empty or all-NA columns when determining the result dtypes. To retain the old behavior, exclude the relevant entries before the concat operation.\n",
      "  df = df._append({'patchId': str(patient)+str(0)+str(c[0]).zfill(7)+str(c[1]).zfill(7),\n"
     ]
    }
   ],
   "source": [
    "for f in tqdm_notebook(ImageFiles, 'Creating dataframes...'):\n",
    "    CreateDF(f)"
   ]
  },
  {
   "cell_type": "code",
   "execution_count": 13,
   "metadata": {},
   "outputs": [
    {
     "data": {
      "text/html": [
       "<div>\n",
       "<style scoped>\n",
       "    .dataframe tbody tr th:only-of-type {\n",
       "        vertical-align: middle;\n",
       "    }\n",
       "\n",
       "    .dataframe tbody tr th {\n",
       "        vertical-align: top;\n",
       "    }\n",
       "\n",
       "    .dataframe thead th {\n",
       "        text-align: right;\n",
       "    }\n",
       "</style>\n",
       "<table border=\"1\" class=\"dataframe\">\n",
       "  <thead>\n",
       "    <tr style=\"text-align: right;\">\n",
       "      <th></th>\n",
       "      <th>Unnamed: 0</th>\n",
       "      <th>patchId</th>\n",
       "      <th>fileName</th>\n",
       "      <th>center</th>\n",
       "      <th>patient</th>\n",
       "      <th>node</th>\n",
       "      <th>centerX</th>\n",
       "      <th>centerY</th>\n",
       "      <th>isTumor</th>\n",
       "      <th>tumorPercentage</th>\n",
       "      <th>tissuePercentage</th>\n",
       "      <th>meanHue</th>\n",
       "      <th>meanSaturation</th>\n",
       "      <th>meanValue</th>\n",
       "    </tr>\n",
       "  </thead>\n",
       "  <tbody>\n",
       "    <tr>\n",
       "      <th>0</th>\n",
       "      <td>0</td>\n",
       "      <td>1001207040038016</td>\n",
       "      <td>../data/training/center_0/patient_001_node_1.tif</td>\n",
       "      <td>0</td>\n",
       "      <td>1</td>\n",
       "      <td>1</td>\n",
       "      <td>120704</td>\n",
       "      <td>38016</td>\n",
       "      <td>False</td>\n",
       "      <td>0.0</td>\n",
       "      <td>32.4</td>\n",
       "      <td>0.73</td>\n",
       "      <td>0.02</td>\n",
       "      <td>0.95</td>\n",
       "    </tr>\n",
       "    <tr>\n",
       "      <th>1</th>\n",
       "      <td>1</td>\n",
       "      <td>1001207040038272</td>\n",
       "      <td>../data/training/center_0/patient_001_node_1.tif</td>\n",
       "      <td>0</td>\n",
       "      <td>1</td>\n",
       "      <td>1</td>\n",
       "      <td>120704</td>\n",
       "      <td>38272</td>\n",
       "      <td>False</td>\n",
       "      <td>0.0</td>\n",
       "      <td>42.1</td>\n",
       "      <td>0.71</td>\n",
       "      <td>0.02</td>\n",
       "      <td>0.96</td>\n",
       "    </tr>\n",
       "    <tr>\n",
       "      <th>2</th>\n",
       "      <td>2</td>\n",
       "      <td>1001209600037504</td>\n",
       "      <td>../data/training/center_0/patient_001_node_1.tif</td>\n",
       "      <td>0</td>\n",
       "      <td>1</td>\n",
       "      <td>1</td>\n",
       "      <td>120960</td>\n",
       "      <td>37504</td>\n",
       "      <td>False</td>\n",
       "      <td>0.0</td>\n",
       "      <td>45.7</td>\n",
       "      <td>0.71</td>\n",
       "      <td>0.03</td>\n",
       "      <td>0.95</td>\n",
       "    </tr>\n",
       "    <tr>\n",
       "      <th>3</th>\n",
       "      <td>3</td>\n",
       "      <td>1001208320037632</td>\n",
       "      <td>../data/training/center_0/patient_001_node_1.tif</td>\n",
       "      <td>0</td>\n",
       "      <td>1</td>\n",
       "      <td>1</td>\n",
       "      <td>120832</td>\n",
       "      <td>37632</td>\n",
       "      <td>False</td>\n",
       "      <td>0.0</td>\n",
       "      <td>26.5</td>\n",
       "      <td>0.70</td>\n",
       "      <td>0.01</td>\n",
       "      <td>0.97</td>\n",
       "    </tr>\n",
       "    <tr>\n",
       "      <th>4</th>\n",
       "      <td>4</td>\n",
       "      <td>1001209600037760</td>\n",
       "      <td>../data/training/center_0/patient_001_node_1.tif</td>\n",
       "      <td>0</td>\n",
       "      <td>1</td>\n",
       "      <td>1</td>\n",
       "      <td>120960</td>\n",
       "      <td>37760</td>\n",
       "      <td>False</td>\n",
       "      <td>0.0</td>\n",
       "      <td>94.1</td>\n",
       "      <td>0.73</td>\n",
       "      <td>0.09</td>\n",
       "      <td>0.92</td>\n",
       "    </tr>\n",
       "  </tbody>\n",
       "</table>\n",
       "</div>"
      ],
      "text/plain": [
       "   Unnamed: 0           patchId  \\\n",
       "0           0  1001207040038016   \n",
       "1           1  1001207040038272   \n",
       "2           2  1001209600037504   \n",
       "3           3  1001208320037632   \n",
       "4           4  1001209600037760   \n",
       "\n",
       "                                           fileName  center  patient  node  \\\n",
       "0  ../data/training/center_0/patient_001_node_1.tif       0        1     1   \n",
       "1  ../data/training/center_0/patient_001_node_1.tif       0        1     1   \n",
       "2  ../data/training/center_0/patient_001_node_1.tif       0        1     1   \n",
       "3  ../data/training/center_0/patient_001_node_1.tif       0        1     1   \n",
       "4  ../data/training/center_0/patient_001_node_1.tif       0        1     1   \n",
       "\n",
       "   centerX  centerY  isTumor  tumorPercentage  tissuePercentage  meanHue  \\\n",
       "0   120704    38016    False              0.0              32.4     0.73   \n",
       "1   120704    38272    False              0.0              42.1     0.71   \n",
       "2   120960    37504    False              0.0              45.7     0.71   \n",
       "3   120832    37632    False              0.0              26.5     0.70   \n",
       "4   120960    37760    False              0.0              94.1     0.73   \n",
       "\n",
       "   meanSaturation  meanValue  \n",
       "0            0.02       0.95  \n",
       "1            0.02       0.96  \n",
       "2            0.03       0.95  \n",
       "3            0.01       0.97  \n",
       "4            0.09       0.92  "
      ]
     },
     "execution_count": 13,
     "metadata": {},
     "output_type": "execute_result"
    }
   ],
   "source": [
    "dftest = pd.read_csv('../data/training/dataframes/patient_001_node_1.csv')\n",
    "dftest.head()"
   ]
  },
  {
   "cell_type": "code",
   "execution_count": null,
   "metadata": {},
   "outputs": [],
   "source": []
  }
 ],
 "metadata": {
  "kernelspec": {
   "display_name": "pathology",
   "language": "python",
   "name": "python3"
  },
  "language_info": {
   "codemirror_mode": {
    "name": "ipython",
    "version": 3
   },
   "file_extension": ".py",
   "mimetype": "text/x-python",
   "name": "python",
   "nbconvert_exporter": "python",
   "pygments_lexer": "ipython3",
   "version": "3.10.13"
  }
 },
 "nbformat": 4,
 "nbformat_minor": 2
}
