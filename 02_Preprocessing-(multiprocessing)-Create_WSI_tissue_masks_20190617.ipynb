{
 "cells": [
  {
   "cell_type": "code",
   "execution_count": 1,
   "metadata": {},
   "outputs": [],
   "source": [
    "import os\n",
    "import sys\n",
    "sys.path.append('C:\\\\Program Files\\\\ASAP 2.2\\\\bin')\n",
    "\n",
    "import multiresolutionimageinterface as mir"
   ]
  },
  {
   "cell_type": "code",
   "execution_count": 2,
   "metadata": {},
   "outputs": [],
   "source": [
    "dirData = '../data/training/'\n",
    "ImageFiles = []\n",
    "# r=root, d=directories, f = files\n",
    "for r, d, f in os.walk(dirData):\n",
    "    for file in f:\n",
    "        if '.tif' in file and 'mask' not in file:\n",
    "            ImageFiles.append(os.path.join(r, file))"
   ]
  },
  {
   "cell_type": "code",
   "execution_count": 3,
   "metadata": {},
   "outputs": [],
   "source": [
    "from utils import wsi2tissueMask # 넘파이 확장자의 tissue mask 저장(배경 제외하는 것)\n",
    "from multiprocessing import Pool"
   ]
  },
  {
   "cell_type": "code",
   "execution_count": 4,
   "metadata": {},
   "outputs": [],
   "source": [
    "# 병렬 처리로 각 WSI의 tissue mask 파일 생성\n",
    "with Pool(8) as p:\n",
    "    p.map(wsi2tissueMask.CreateTissueMask, ImageFiles)"
   ]
  },
  {
   "cell_type": "code",
   "execution_count": null,
   "metadata": {},
   "outputs": [],
   "source": []
  }
 ],
 "metadata": {
  "kernelspec": {
   "display_name": "pathology",
   "language": "python",
   "name": "python3"
  },
  "language_info": {
   "codemirror_mode": {
    "name": "ipython",
    "version": 3
   },
   "file_extension": ".py",
   "mimetype": "text/x-python",
   "name": "python",
   "nbconvert_exporter": "python",
   "pygments_lexer": "ipython3",
   "version": "3.10.13"
  }
 },
 "nbformat": 4,
 "nbformat_minor": 2
}
