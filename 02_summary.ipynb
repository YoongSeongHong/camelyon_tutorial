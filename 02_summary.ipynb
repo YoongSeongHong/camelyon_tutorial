{
 "cells": [
  {
   "cell_type": "code",
   "execution_count": 1,
   "metadata": {},
   "outputs": [],
   "source": [
    "import sys\n",
    "sys.path.append('C:\\\\Program Files\\\\ASAP 2.2\\\\bin')\n",
    "\n",
    "import multiresolutionimageinterface as mir\n",
    "import cv2\n",
    "from tqdm import tqdm_notebook\n",
    "import numpy as np\n",
    "import os\n",
    "import matplotlib.pyplot as plt\n"
   ]
  },
  {
   "cell_type": "code",
   "execution_count": 7,
   "metadata": {},
   "outputs": [],
   "source": [
    "reader = mir.MultiResolutionImageReader()"
   ]
  },
  {
   "cell_type": "code",
   "execution_count": 8,
   "metadata": {},
   "outputs": [],
   "source": [
    "dirData = '../data/training/'\n",
    "ImageFiles = []\n",
    "# r=root, d=directories, f = files\n",
    "for r, d, f in os.walk(dirData):\n",
    "    for file in f:\n",
    "        if '.tif' in file and 'mask' not in file:\n",
    "            ImageFiles.append(os.path.join(r, file))"
   ]
  },
  {
   "cell_type": "code",
   "execution_count": 9,
   "metadata": {},
   "outputs": [],
   "source": [
    "## This function is adapted from a digital pathology pipeline code of Mikko Tukiainen\n",
    "# utils 폴더의 wsi2tissueMask.py 파일의 함수들과 동일.\n",
    "# 배경은 0으로, 조직부분은 255로 저장\n",
    "def make_tissue_mask(slide, mask_level = 4, morpho=None, morpho_kernel_size=5, morpho_iter=1, median_filter=False, return_original = False): \n",
    "    ''' make tissue mask\n",
    "        return tissue mask array which has tissue locations (pixel value 0 -> empty, 255 -> tissue)\n",
    "    Args:\n",
    "        slide (MultiResolutionImage): MultiResolutionImage slide to process\n",
    "        mask_level (int): defines the level of zoom at which the mask be created (default 4)\n",
    "        morpho (cv2.MORPHO): OpenCV morpho flag, Cv2.MORPHO_OPEN or Cv2.MORPHO_CLOSE (default None)\n",
    "        morpho_kernel_size (int): kernel size for morphological transformation (default 5)\n",
    "        morpho_iter (int): morphological transformation iterations (default=1)\n",
    "        median_filtern (bool): Use median filtering to remove noise (default False)\n",
    "        return_original (bool): return also the unmasked image\n",
    "    '''\n",
    "    \n",
    "    # 슬라이드 읽기\n",
    "    ds = slide.getLevelDownsample(mask_level)\n",
    "    original_tissue = slide.getUCharPatch(0,\n",
    "                                         0,\n",
    "                                         int(slide.getDimensions()[0] / float(ds)),\n",
    "                                         int(slide.getDimensions()[1] / float(ds)),\n",
    "                                         mask_level)\n",
    "    \n",
    "    # 마스크의 밝기 채널만 추출하여 threshold에 따라 이진화\n",
    "    tissue_mask = cv2.cvtColor(np.array(original_tissue), cv2.COLOR_RGBA2RGB)\n",
    "    tissue_mask = cv2.cvtColor(tissue_mask, cv2.COLOR_BGR2HSV)\n",
    "    tissue_mask = tissue_mask[:, :, 1]\n",
    "    _, tissue_mask = cv2.threshold(tissue_mask, 0, 255, cv2.THRESH_BINARY+cv2.THRESH_OTSU)\n",
    "    \n",
    "    # morphology 변환\n",
    "    if morpho is not None:\n",
    "        kernel = np.ones((morpho_kernel_size,morpho_kernel_size), np.uint8)\n",
    "        tissue_mask = cv2.morphologyEx(tissue_mask, morpho, kernel, iterations = morpho_iter)\n",
    "    \n",
    "    # 중앙값 필터링으로 노이즈 제거\n",
    "    if median_filter:\n",
    "        tissue_mask = cv2.medianBlur(tissue_mask, 15)\n",
    "    \n",
    "    # 마스크를 넘파이 배열로 변환\n",
    "    tissue_mask = np.array(tissue_mask, dtype=np.uint8)\n",
    "\n",
    "    # 원본도 같이 저장할지\n",
    "    if return_original:\n",
    "        return tissue_mask, original_tissue\n",
    "    else:\n",
    "        return tissue_mask"
   ]
  },
  {
   "cell_type": "code",
   "execution_count": 10,
   "metadata": {},
   "outputs": [],
   "source": [
    "def CreateTissueMask(tifPath):\n",
    "    \n",
    "    # 파일 명만 가져오기\n",
    "    fileNamePart = tifPath.replace('.tif','').replace(dirData, \"\")\n",
    "    \n",
    "    # Skip if this mask is already found\n",
    "    maskPath = tifPath.replace('.tif', '_tissue_mask_ds16.npy')\n",
    "    if (os.path.isfile(maskPath)):\n",
    "        print('Info - Tissue mask file of {0} already exists - skipping'.format(tifPath))\n",
    "        return\n",
    "    \n",
    "    # create tissue mask\n",
    "    mr_image = reader.open(tifPath)\n",
    "    if(mr_image is None):\n",
    "        print('Warning - Could not read {0} - skipping'.format(tifPath))\n",
    "        return\n",
    "    tissue_mask = make_tissue_mask(mr_image,\n",
    "                                   mr_image.getBestLevelForDownSample(16), \n",
    "                                   morpho=cv2.MORPH_CLOSE,\n",
    "                                   morpho_kernel_size=7,\n",
    "                                   morpho_iter=2,\n",
    "                                   median_filter=True)\n",
    "    # tissue_mask is a binary array dtype.uint8  (16 times downsampled)\n",
    "    np.save(maskPath, tissue_mask)"
   ]
  },
  {
   "cell_type": "code",
   "execution_count": 11,
   "metadata": {},
   "outputs": [
    {
     "name": "stderr",
     "output_type": "stream",
     "text": [
      "C:\\Users\\songhow53\\AppData\\Local\\Temp\\ipykernel_17720\\1165693191.py:1: TqdmDeprecationWarning: This function will be removed in tqdm==5.0.0\n",
      "Please use `tqdm.notebook.tqdm` instead of `tqdm.tqdm_notebook`\n",
      "  for f in tqdm_notebook(ImageFiles, 'Creating tissue masks...'):\n"
     ]
    },
    {
     "data": {
      "application/vnd.jupyter.widget-view+json": {
       "model_id": "6006e39abeac42ca9b08032a24b1d857",
       "version_major": 2,
       "version_minor": 0
      },
      "text/plain": [
       "Creating tissue masks...:   0%|          | 0/6 [00:00<?, ?it/s]"
      ]
     },
     "metadata": {},
     "output_type": "display_data"
    },
    {
     "name": "stdout",
     "output_type": "stream",
     "text": [
      "WSI: ../data/training/center_0\\patient_001_node_1.tif\n",
      "WSI: ../data/training/center_0\\patient_004_node_0.tif\n",
      "WSI: ../data/training/center_0\\patient_004_node_1.tif\n",
      "WSI: ../data/training/center_0\\patient_004_node_2.tif\n",
      "WSI: ../data/training/center_0\\patient_004_node_3.tif\n",
      "WSI: ../data/training/center_0\\patient_004_node_4.tif\n"
     ]
    }
   ],
   "source": [
    "for f in tqdm_notebook(ImageFiles, 'Creating tissue masks...'):\n",
    "    print('WSI: ' + f)\n",
    "    CreateTissueMask(f)"
   ]
  },
  {
   "cell_type": "code",
   "execution_count": null,
   "metadata": {},
   "outputs": [],
   "source": []
  }
 ],
 "metadata": {
  "kernelspec": {
   "display_name": "pathology",
   "language": "python",
   "name": "python3"
  },
  "language_info": {
   "codemirror_mode": {
    "name": "ipython",
    "version": 3
   },
   "file_extension": ".py",
   "mimetype": "text/x-python",
   "name": "python",
   "nbconvert_exporter": "python",
   "pygments_lexer": "ipython3",
   "version": "3.10.13"
  }
 },
 "nbformat": 4,
 "nbformat_minor": 2
}
