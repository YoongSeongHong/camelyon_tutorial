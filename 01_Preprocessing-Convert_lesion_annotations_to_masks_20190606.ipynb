{
 "cells": [
  {
   "cell_type": "code",
   "execution_count": 1,
   "metadata": {},
   "outputs": [],
   "source": [
    "# https://github.com/computationalpathologygroup/ASAP/releases에서 실행 파일을 다운받고, 바이너리 폴더를 path에 append 해줍니다.\n",
    "import sys\n",
    "sys.path.append('C:\\\\Program Files\\\\ASAP 2.2\\\\bin')\n",
    "\n",
    "# bin 폴더의 multiresolutionimageinterface.py 파일을 import 해줍니다.\n",
    "import multiresolutionimageinterface as mir\n",
    "import cv2\n",
    "from tqdm import tqdm_notebook\n",
    "import os\n",
    "\n"
   ]
  },
  {
   "cell_type": "code",
   "execution_count": 2,
   "metadata": {},
   "outputs": [],
   "source": [
    "# tif 파일, xml 형식의 annotation 파일 불러오기 위함\n",
    "reader = mir.MultiResolutionImageReader()\n",
    "annotation_list = mir.AnnotationList()\n",
    "xml_repository = mir.XmlRepository(annotation_list)"
   ]
  },
  {
   "cell_type": "code",
   "execution_count": 3,
   "metadata": {},
   "outputs": [],
   "source": [
    "# 각각 annotation파일, training용 wsi파일 주소\n",
    "dirAnnotations = '../data/annotations/'\n",
    "dirData = '../data/training/'"
   ]
  },
  {
   "cell_type": "code",
   "execution_count": 4,
   "metadata": {},
   "outputs": [],
   "source": [
    "# '../data/training/center_0\\\\patient_001_node_1.tif' 형식의 파일명만 리스트에 저장\n",
    "ImageFiles = []\n",
    "# r=root, d=directories, f = files\n",
    "for r, d, f in os.walk(dirData):\n",
    "    for file in f:\n",
    "        if '.tif' in file and 'mask' not in file:\n",
    "            ImageFiles.append(os.path.join(r, file))"
   ]
  },
  {
   "cell_type": "code",
   "execution_count": 5,
   "metadata": {},
   "outputs": [
    {
     "data": {
      "text/plain": [
       "['../data/training/center_0\\\\patient_001_node_1.tif',\n",
       " '../data/training/center_0\\\\patient_004_node_0.tif',\n",
       " '../data/training/center_0\\\\patient_004_node_1.tif',\n",
       " '../data/training/center_0\\\\patient_004_node_2.tif',\n",
       " '../data/training/center_0\\\\patient_004_node_3.tif',\n",
       " '../data/training/center_0\\\\patient_004_node_4.tif']"
      ]
     },
     "execution_count": 5,
     "metadata": {},
     "output_type": "execute_result"
    }
   ],
   "source": [
    "# 전체 이미지였다면 500개의 이미지 파일명 저장\n",
    "ImageFiles"
   ]
  },
  {
   "cell_type": "code",
   "execution_count": 11,
   "metadata": {},
   "outputs": [],
   "source": [
    "# xml파일들이 위치한 폴더를 받아서 각 annotation파일을 마스크로 변환(종양인 부위는 흰색, 없는 부위는 검은색)\n",
    "def CreateAnnotationMask(annotationPath):\n",
    "    \n",
    "    # xml파일의 디렉토리와 확장자 빼고 이름만 저장 ex) patient_001_node_1\n",
    "    fileNamePart = annotationPath.replace('.xml','').replace(dirAnnotations, \"\")\n",
    "    \n",
    "    # fileNamePart에 .tif 확장자 부여 ex) patient_001_node_1.tif\n",
    "    tifName = fileNamePart + '.tif'\n",
    "\n",
    "    # tifName과 ImageFiles 내 값 중 일치하는 것이 없다면 skip -> annotation이 존재하는(tumor가 존재하는) 이미지에 대해서만 실행되는 것.\n",
    "    partialMatches = [s for s in ImageFiles if tifName in s]\n",
    "    if len(partialMatches) == 0:\n",
    "        print('Warning - This file is missing from the file list: {0} - skipping.'.format(tifName))\n",
    "        return\n",
    "    tifPath = partialMatches[0]\n",
    "    \n",
    "    # tif 파일이 없다면 skip\n",
    "    if (not os.path.isfile(tifPath)): \n",
    "        print('Warning - Could not locate {0} - skipping this annotation file.'.format(tifPath))\n",
    "        return\n",
    "    \n",
    "    # 이미 존재하는 파일이면 skip\n",
    "    maskPath = tifPath.replace('.tif', '_mask.tif')\n",
    "    if (os.path.isfile(maskPath)):\n",
    "        print('Info - Mask file of {0} already exists - skipping'.format(tifPath))\n",
    "        return\n",
    "    \n",
    "    # xml 파일 받아오기\n",
    "    xml_repository.setSource(annotationPath)\n",
    "    xml_repository.load()\n",
    "\n",
    "    # 폴리곤으로 존재하는 xml파일을 마스크 tif 파일로 변환\n",
    "    annotation_mask = mir.AnnotationToMask()\n",
    "    mr_image = reader.open(tifPath)\n",
    "    if(mr_image is None):\n",
    "        print('Warning - Could not read {0} - skipping'.format(tifPath))\n",
    "        return\n",
    "    label_map = {'metastases': 1, 'normal': 2}\n",
    "    conversion_order = ['metastases', 'normal']\n",
    "    annotation_mask.convert(annotation_list, \n",
    "                            maskPath, \n",
    "                            mr_image.getDimensions(), \n",
    "                            mr_image.getSpacing(), \n",
    "                            label_map, \n",
    "                            conversion_order)"
   ]
  },
  {
   "cell_type": "code",
   "execution_count": 12,
   "metadata": {},
   "outputs": [],
   "source": [
    "# annotation 파일 명 저장하는 리스트 생성\n",
    "AnnotationFiles = []\n",
    "# r=root, d=directories, f = files\n",
    "for r, d, f in os.walk(dirAnnotations):\n",
    "    for file in f:\n",
    "        if '.xml' in file:\n",
    "            AnnotationFiles.append(os.path.join(r, file))"
   ]
  },
  {
   "cell_type": "code",
   "execution_count": 13,
   "metadata": {},
   "outputs": [
    {
     "data": {
      "text/plain": [
       "['../data/annotations/patient_004_node_4.xml',\n",
       " '../data/annotations/patient_009_node_1.xml',\n",
       " '../data/annotations/patient_010_node_4.xml',\n",
       " '../data/annotations/patient_012_node_0.xml']"
      ]
     },
     "execution_count": 13,
     "metadata": {},
     "output_type": "execute_result"
    }
   ],
   "source": [
    "AnnotationFiles[:4]"
   ]
  },
  {
   "cell_type": "code",
   "execution_count": 14,
   "metadata": {},
   "outputs": [
    {
     "data": {
      "application/vnd.jupyter.widget-view+json": {
       "model_id": "e5c905b0add34d7abe01c93b42d6dc8e",
       "version_major": 2,
       "version_minor": 0
      },
      "text/plain": [
       "Creating masks...:   0%|          | 0/50 [00:00<?, ?it/s]"
      ]
     },
     "metadata": {},
     "output_type": "display_data"
    },
    {
     "name": "stdout",
     "output_type": "stream",
     "text": [
      "Annotation file: ../data/annotations/patient_004_node_4.xml\n",
      "Info - Mask file of ../data/training/center_0\\patient_004_node_4.tif already exists - skipping\n",
      "Annotation file: ../data/annotations/patient_009_node_1.xml\n",
      "Warning - This file is missing from the file list: patient_009_node_1.tif - skipping.\n",
      "Annotation file: ../data/annotations/patient_010_node_4.xml\n",
      "Warning - This file is missing from the file list: patient_010_node_4.tif - skipping.\n",
      "Annotation file: ../data/annotations/patient_012_node_0.xml\n",
      "Warning - This file is missing from the file list: patient_012_node_0.tif - skipping.\n",
      "Annotation file: ../data/annotations/patient_015_node_1.xml\n",
      "Warning - This file is missing from the file list: patient_015_node_1.tif - skipping.\n",
      "Annotation file: ../data/annotations/patient_015_node_2.xml\n",
      "Warning - This file is missing from the file list: patient_015_node_2.tif - skipping.\n",
      "Annotation file: ../data/annotations/patient_016_node_1.xml\n",
      "Warning - This file is missing from the file list: patient_016_node_1.tif - skipping.\n",
      "Annotation file: ../data/annotations/patient_017_node_1.xml\n",
      "Warning - This file is missing from the file list: patient_017_node_1.tif - skipping.\n",
      "Annotation file: ../data/annotations/patient_017_node_2.xml\n",
      "Warning - This file is missing from the file list: patient_017_node_2.tif - skipping.\n",
      "Annotation file: ../data/annotations/patient_017_node_4.xml\n",
      "Warning - This file is missing from the file list: patient_017_node_4.tif - skipping.\n",
      "Annotation file: ../data/annotations/patient_020_node_2.xml\n",
      "Warning - This file is missing from the file list: patient_020_node_2.tif - skipping.\n",
      "Annotation file: ../data/annotations/patient_020_node_4.xml\n",
      "Warning - This file is missing from the file list: patient_020_node_4.tif - skipping.\n",
      "Annotation file: ../data/annotations/patient_021_node_3.xml\n",
      "Warning - This file is missing from the file list: patient_021_node_3.tif - skipping.\n",
      "Annotation file: ../data/annotations/patient_022_node_4.xml\n",
      "Warning - This file is missing from the file list: patient_022_node_4.tif - skipping.\n",
      "Annotation file: ../data/annotations/patient_024_node_1.xml\n",
      "Warning - This file is missing from the file list: patient_024_node_1.tif - skipping.\n",
      "Annotation file: ../data/annotations/patient_024_node_2.xml\n",
      "Warning - This file is missing from the file list: patient_024_node_2.tif - skipping.\n",
      "Annotation file: ../data/annotations/patient_034_node_3.xml\n",
      "Warning - This file is missing from the file list: patient_034_node_3.tif - skipping.\n",
      "Annotation file: ../data/annotations/patient_036_node_3.xml\n",
      "Warning - This file is missing from the file list: patient_036_node_3.tif - skipping.\n",
      "Annotation file: ../data/annotations/patient_038_node_2.xml\n",
      "Warning - This file is missing from the file list: patient_038_node_2.tif - skipping.\n",
      "Annotation file: ../data/annotations/patient_039_node_1.xml\n",
      "Warning - This file is missing from the file list: patient_039_node_1.tif - skipping.\n",
      "Annotation file: ../data/annotations/patient_040_node_2.xml\n",
      "Warning - This file is missing from the file list: patient_040_node_2.tif - skipping.\n",
      "Annotation file: ../data/annotations/patient_041_node_0.xml\n",
      "Warning - This file is missing from the file list: patient_041_node_0.tif - skipping.\n",
      "Annotation file: ../data/annotations/patient_042_node_3.xml\n",
      "Warning - This file is missing from the file list: patient_042_node_3.tif - skipping.\n",
      "Annotation file: ../data/annotations/patient_044_node_4.xml\n",
      "Warning - This file is missing from the file list: patient_044_node_4.tif - skipping.\n",
      "Annotation file: ../data/annotations/patient_045_node_1.xml\n",
      "Warning - This file is missing from the file list: patient_045_node_1.tif - skipping.\n",
      "Annotation file: ../data/annotations/patient_046_node_3.xml\n",
      "Warning - This file is missing from the file list: patient_046_node_3.tif - skipping.\n",
      "Annotation file: ../data/annotations/patient_046_node_4.xml\n",
      "Warning - This file is missing from the file list: patient_046_node_4.tif - skipping.\n",
      "Annotation file: ../data/annotations/patient_048_node_1.xml\n",
      "Warning - This file is missing from the file list: patient_048_node_1.tif - skipping.\n",
      "Annotation file: ../data/annotations/patient_051_node_2.xml\n",
      "Warning - This file is missing from the file list: patient_051_node_2.tif - skipping.\n",
      "Annotation file: ../data/annotations/patient_052_node_1.xml\n",
      "Warning - This file is missing from the file list: patient_052_node_1.tif - skipping.\n",
      "Annotation file: ../data/annotations/patient_060_node_3.xml\n",
      "Warning - This file is missing from the file list: patient_060_node_3.tif - skipping.\n",
      "Annotation file: ../data/annotations/patient_061_node_4.xml\n",
      "Warning - This file is missing from the file list: patient_061_node_4.tif - skipping.\n",
      "Annotation file: ../data/annotations/patient_062_node_2.xml\n",
      "Warning - This file is missing from the file list: patient_062_node_2.tif - skipping.\n",
      "Annotation file: ../data/annotations/patient_064_node_0.xml\n",
      "Warning - This file is missing from the file list: patient_064_node_0.tif - skipping.\n",
      "Annotation file: ../data/annotations/patient_066_node_2.xml\n",
      "Warning - This file is missing from the file list: patient_066_node_2.tif - skipping.\n",
      "Annotation file: ../data/annotations/patient_067_node_4.xml\n",
      "Warning - This file is missing from the file list: patient_067_node_4.tif - skipping.\n",
      "Annotation file: ../data/annotations/patient_068_node_1.xml\n",
      "Warning - This file is missing from the file list: patient_068_node_1.tif - skipping.\n",
      "Annotation file: ../data/annotations/patient_072_node_0.xml\n",
      "Warning - This file is missing from the file list: patient_072_node_0.tif - skipping.\n",
      "Annotation file: ../data/annotations/patient_073_node_1.xml\n",
      "Warning - This file is missing from the file list: patient_073_node_1.tif - skipping.\n",
      "Annotation file: ../data/annotations/patient_075_node_4.xml\n",
      "Warning - This file is missing from the file list: patient_075_node_4.tif - skipping.\n",
      "Annotation file: ../data/annotations/patient_080_node_1.xml\n",
      "Warning - This file is missing from the file list: patient_080_node_1.tif - skipping.\n",
      "Annotation file: ../data/annotations/patient_081_node_4.xml\n",
      "Warning - This file is missing from the file list: patient_081_node_4.tif - skipping.\n",
      "Annotation file: ../data/annotations/patient_086_node_0.xml\n",
      "Warning - This file is missing from the file list: patient_086_node_0.tif - skipping.\n",
      "Annotation file: ../data/annotations/patient_086_node_4.xml\n",
      "Warning - This file is missing from the file list: patient_086_node_4.tif - skipping.\n",
      "Annotation file: ../data/annotations/patient_087_node_0.xml\n",
      "Warning - This file is missing from the file list: patient_087_node_0.tif - skipping.\n",
      "Annotation file: ../data/annotations/patient_088_node_1.xml\n",
      "Warning - This file is missing from the file list: patient_088_node_1.tif - skipping.\n",
      "Annotation file: ../data/annotations/patient_089_node_3.xml\n",
      "Warning - This file is missing from the file list: patient_089_node_3.tif - skipping.\n",
      "Annotation file: ../data/annotations/patient_092_node_1.xml\n",
      "Warning - This file is missing from the file list: patient_092_node_1.tif - skipping.\n",
      "Annotation file: ../data/annotations/patient_096_node_0.xml\n",
      "Warning - This file is missing from the file list: patient_096_node_0.tif - skipping.\n",
      "Annotation file: ../data/annotations/patient_099_node_4.xml\n",
      "Warning - This file is missing from the file list: patient_099_node_4.tif - skipping.\n"
     ]
    }
   ],
   "source": [
    "from tqdm.notebook import tqdm\n",
    "\n",
    "# 위에서 선언한 함수로 annotation이 존재하는 tif파일 ex) patient_004_node_4.tif 파일 위치에 patient_004_node_4_mask.tif 파일 생성\n",
    "for f in tqdm(AnnotationFiles, 'Creating masks...'):\n",
    "    print('Annotation file: ' + f)\n",
    "    CreateAnnotationMask(f)\n"
   ]
  },
  {
   "cell_type": "code",
   "execution_count": null,
   "metadata": {},
   "outputs": [],
   "source": []
  }
 ],
 "metadata": {
  "kernelspec": {
   "display_name": "torch",
   "language": "python",
   "name": "python3"
  },
  "language_info": {
   "codemirror_mode": {
    "name": "ipython",
    "version": 3
   },
   "file_extension": ".py",
   "mimetype": "text/x-python",
   "name": "python",
   "nbconvert_exporter": "python",
   "pygments_lexer": "ipython3",
   "version": "3.10.13"
  }
 },
 "nbformat": 4,
 "nbformat_minor": 2
}
