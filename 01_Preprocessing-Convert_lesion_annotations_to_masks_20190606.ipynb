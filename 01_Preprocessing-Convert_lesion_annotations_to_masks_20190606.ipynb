{
 "cells": [
  {
   "cell_type": "code",
   "execution_count": 1,
   "metadata": {},
   "outputs": [],
   "source": [
    "import sys\n",
    "sys.path.append('C:\\\\Program Files\\\\ASAP 2.2\\\\bin')\n",
    "\n",
    "import multiresolutionimageinterface as mir\n",
    "import cv2\n",
    "from tqdm import tqdm_notebook\n",
    "import os\n",
    "\n"
   ]
  },
  {
   "cell_type": "code",
   "execution_count": 2,
   "metadata": {},
   "outputs": [],
   "source": [
    "# # The path can also be read from a config file, etc.\n",
    "# OPENSLIDE_PATH = \"C:\\\\Program Files\\\\openslide-win64-20231011\\\\bin\"\n",
    "# os.add_dll_directory(OPENSLIDE_PATH)\n",
    "# import openslide"
   ]
  },
  {
   "cell_type": "code",
   "execution_count": 3,
   "metadata": {},
   "outputs": [],
   "source": [
    "reader = mir.MultiResolutionImageReader()\n",
    "annotation_list = mir.AnnotationList()\n",
    "xml_repository = mir.XmlRepository(annotation_list)"
   ]
  },
  {
   "cell_type": "code",
   "execution_count": 9,
   "metadata": {},
   "outputs": [],
   "source": [
    "dirAnnotations = '../data/annotations/'\n",
    "dirData = '../data/training/'"
   ]
  },
  {
   "cell_type": "code",
   "execution_count": 10,
   "metadata": {},
   "outputs": [],
   "source": [
    "ImageFiles = []\n",
    "# r=root, d=directories, f = files\n",
    "for r, d, f in os.walk(dirData):\n",
    "    for file in f:\n",
    "        if '.tif' in file and 'mask' not in file:\n",
    "            ImageFiles.append(os.path.join(r, file))"
   ]
  },
  {
   "cell_type": "code",
   "execution_count": 11,
   "metadata": {},
   "outputs": [],
   "source": [
    "def CreateAnnotationMask(annotationPath):\n",
    "    \n",
    "    # get only the name without dir or file suffix\n",
    "    fileNamePart = annotationPath.replace('.xml','').replace(dirAnnotations, \"\")\n",
    "    \n",
    "    # what is the corresponding tif file - directories may vary so search from the list\n",
    "    tifName = fileNamePart + '.tif'\n",
    "    partialMatches = [s for s in ImageFiles if tifName in s]\n",
    "    if len(partialMatches) == 0:\n",
    "        print('Warning - This file is missing from the file list: {0} - skipping.'.format(tifName))\n",
    "        return\n",
    "    tifPath = partialMatches[0]\n",
    "    \n",
    "    # skip if tif file is not found\n",
    "    if (not os.path.isfile(tifPath)): \n",
    "        print('Warning - Could not locate {0} - skipping this annotation file.'.format(tifPath))\n",
    "        return\n",
    "    \n",
    "    # Skip if this mask is already found\n",
    "    maskPath = tifPath.replace('.tif', '_mask.tif')\n",
    "    if (os.path.isfile(maskPath)):\n",
    "        print('Info - Mask file of {0} already exists - skipping'.format(tifPath))\n",
    "        return\n",
    "    \n",
    "    # create mask\n",
    "    xml_repository.setSource(annotationPath)\n",
    "    xml_repository.load()\n",
    "    annotation_mask = mir.AnnotationToMask()\n",
    "    mr_image = reader.open(tifPath)\n",
    "    if(mr_image is None):\n",
    "        print('Warning - Could not read {0} - skipping'.format(tifPath))\n",
    "        return\n",
    "    label_map = {'metastases': 1, 'normal': 2}\n",
    "    conversion_order = ['metastases', 'normal']\n",
    "    annotation_mask.convert(annotation_list, \n",
    "                            maskPath, \n",
    "                            mr_image.getDimensions(), \n",
    "                            mr_image.getSpacing(), \n",
    "                            label_map, \n",
    "                            conversion_order)"
   ]
  },
  {
   "cell_type": "code",
   "execution_count": 12,
   "metadata": {},
   "outputs": [],
   "source": [
    "AnnotationFiles = []\n",
    "# r=root, d=directories, f = files\n",
    "for r, d, f in os.walk(dirAnnotations):\n",
    "    for file in f:\n",
    "        if '.xml' in file:\n",
    "            AnnotationFiles.append(os.path.join(r, file))"
   ]
  },
  {
   "cell_type": "code",
   "execution_count": 13,
   "metadata": {},
   "outputs": [
    {
     "data": {
      "text/plain": [
       "['../data/annotations/patient_004_node_4.xml',\n",
       " '../data/annotations/patient_009_node_1.xml',\n",
       " '../data/annotations/patient_010_node_4.xml',\n",
       " '../data/annotations/patient_012_node_0.xml']"
      ]
     },
     "execution_count": 13,
     "metadata": {},
     "output_type": "execute_result"
    }
   ],
   "source": [
    "AnnotationFiles[:4]"
   ]
  },
  {
   "cell_type": "code",
   "execution_count": 14,
   "metadata": {},
   "outputs": [
    {
     "data": {
      "application/vnd.jupyter.widget-view+json": {
       "model_id": "e5c905b0add34d7abe01c93b42d6dc8e",
       "version_major": 2,
       "version_minor": 0
      },
      "text/plain": [
       "Creating masks...:   0%|          | 0/50 [00:00<?, ?it/s]"
      ]
     },
     "metadata": {},
     "output_type": "display_data"
    },
    {
     "name": "stdout",
     "output_type": "stream",
     "text": [
      "Annotation file: ../data/annotations/patient_004_node_4.xml\n",
      "Info - Mask file of ../data/training/center_0\\patient_004_node_4.tif already exists - skipping\n",
      "Annotation file: ../data/annotations/patient_009_node_1.xml\n",
      "Warning - This file is missing from the file list: patient_009_node_1.tif - skipping.\n",
      "Annotation file: ../data/annotations/patient_010_node_4.xml\n",
      "Warning - This file is missing from the file list: patient_010_node_4.tif - skipping.\n",
      "Annotation file: ../data/annotations/patient_012_node_0.xml\n",
      "Warning - This file is missing from the file list: patient_012_node_0.tif - skipping.\n",
      "Annotation file: ../data/annotations/patient_015_node_1.xml\n",
      "Warning - This file is missing from the file list: patient_015_node_1.tif - skipping.\n",
      "Annotation file: ../data/annotations/patient_015_node_2.xml\n",
      "Warning - This file is missing from the file list: patient_015_node_2.tif - skipping.\n",
      "Annotation file: ../data/annotations/patient_016_node_1.xml\n",
      "Warning - This file is missing from the file list: patient_016_node_1.tif - skipping.\n",
      "Annotation file: ../data/annotations/patient_017_node_1.xml\n",
      "Warning - This file is missing from the file list: patient_017_node_1.tif - skipping.\n",
      "Annotation file: ../data/annotations/patient_017_node_2.xml\n",
      "Warning - This file is missing from the file list: patient_017_node_2.tif - skipping.\n",
      "Annotation file: ../data/annotations/patient_017_node_4.xml\n",
      "Warning - This file is missing from the file list: patient_017_node_4.tif - skipping.\n",
      "Annotation file: ../data/annotations/patient_020_node_2.xml\n",
      "Warning - This file is missing from the file list: patient_020_node_2.tif - skipping.\n",
      "Annotation file: ../data/annotations/patient_020_node_4.xml\n",
      "Warning - This file is missing from the file list: patient_020_node_4.tif - skipping.\n",
      "Annotation file: ../data/annotations/patient_021_node_3.xml\n",
      "Warning - This file is missing from the file list: patient_021_node_3.tif - skipping.\n",
      "Annotation file: ../data/annotations/patient_022_node_4.xml\n",
      "Warning - This file is missing from the file list: patient_022_node_4.tif - skipping.\n",
      "Annotation file: ../data/annotations/patient_024_node_1.xml\n",
      "Warning - This file is missing from the file list: patient_024_node_1.tif - skipping.\n",
      "Annotation file: ../data/annotations/patient_024_node_2.xml\n",
      "Warning - This file is missing from the file list: patient_024_node_2.tif - skipping.\n",
      "Annotation file: ../data/annotations/patient_034_node_3.xml\n",
      "Warning - This file is missing from the file list: patient_034_node_3.tif - skipping.\n",
      "Annotation file: ../data/annotations/patient_036_node_3.xml\n",
      "Warning - This file is missing from the file list: patient_036_node_3.tif - skipping.\n",
      "Annotation file: ../data/annotations/patient_038_node_2.xml\n",
      "Warning - This file is missing from the file list: patient_038_node_2.tif - skipping.\n",
      "Annotation file: ../data/annotations/patient_039_node_1.xml\n",
      "Warning - This file is missing from the file list: patient_039_node_1.tif - skipping.\n",
      "Annotation file: ../data/annotations/patient_040_node_2.xml\n",
      "Warning - This file is missing from the file list: patient_040_node_2.tif - skipping.\n",
      "Annotation file: ../data/annotations/patient_041_node_0.xml\n",
      "Warning - This file is missing from the file list: patient_041_node_0.tif - skipping.\n",
      "Annotation file: ../data/annotations/patient_042_node_3.xml\n",
      "Warning - This file is missing from the file list: patient_042_node_3.tif - skipping.\n",
      "Annotation file: ../data/annotations/patient_044_node_4.xml\n",
      "Warning - This file is missing from the file list: patient_044_node_4.tif - skipping.\n",
      "Annotation file: ../data/annotations/patient_045_node_1.xml\n",
      "Warning - This file is missing from the file list: patient_045_node_1.tif - skipping.\n",
      "Annotation file: ../data/annotations/patient_046_node_3.xml\n",
      "Warning - This file is missing from the file list: patient_046_node_3.tif - skipping.\n",
      "Annotation file: ../data/annotations/patient_046_node_4.xml\n",
      "Warning - This file is missing from the file list: patient_046_node_4.tif - skipping.\n",
      "Annotation file: ../data/annotations/patient_048_node_1.xml\n",
      "Warning - This file is missing from the file list: patient_048_node_1.tif - skipping.\n",
      "Annotation file: ../data/annotations/patient_051_node_2.xml\n",
      "Warning - This file is missing from the file list: patient_051_node_2.tif - skipping.\n",
      "Annotation file: ../data/annotations/patient_052_node_1.xml\n",
      "Warning - This file is missing from the file list: patient_052_node_1.tif - skipping.\n",
      "Annotation file: ../data/annotations/patient_060_node_3.xml\n",
      "Warning - This file is missing from the file list: patient_060_node_3.tif - skipping.\n",
      "Annotation file: ../data/annotations/patient_061_node_4.xml\n",
      "Warning - This file is missing from the file list: patient_061_node_4.tif - skipping.\n",
      "Annotation file: ../data/annotations/patient_062_node_2.xml\n",
      "Warning - This file is missing from the file list: patient_062_node_2.tif - skipping.\n",
      "Annotation file: ../data/annotations/patient_064_node_0.xml\n",
      "Warning - This file is missing from the file list: patient_064_node_0.tif - skipping.\n",
      "Annotation file: ../data/annotations/patient_066_node_2.xml\n",
      "Warning - This file is missing from the file list: patient_066_node_2.tif - skipping.\n",
      "Annotation file: ../data/annotations/patient_067_node_4.xml\n",
      "Warning - This file is missing from the file list: patient_067_node_4.tif - skipping.\n",
      "Annotation file: ../data/annotations/patient_068_node_1.xml\n",
      "Warning - This file is missing from the file list: patient_068_node_1.tif - skipping.\n",
      "Annotation file: ../data/annotations/patient_072_node_0.xml\n",
      "Warning - This file is missing from the file list: patient_072_node_0.tif - skipping.\n",
      "Annotation file: ../data/annotations/patient_073_node_1.xml\n",
      "Warning - This file is missing from the file list: patient_073_node_1.tif - skipping.\n",
      "Annotation file: ../data/annotations/patient_075_node_4.xml\n",
      "Warning - This file is missing from the file list: patient_075_node_4.tif - skipping.\n",
      "Annotation file: ../data/annotations/patient_080_node_1.xml\n",
      "Warning - This file is missing from the file list: patient_080_node_1.tif - skipping.\n",
      "Annotation file: ../data/annotations/patient_081_node_4.xml\n",
      "Warning - This file is missing from the file list: patient_081_node_4.tif - skipping.\n",
      "Annotation file: ../data/annotations/patient_086_node_0.xml\n",
      "Warning - This file is missing from the file list: patient_086_node_0.tif - skipping.\n",
      "Annotation file: ../data/annotations/patient_086_node_4.xml\n",
      "Warning - This file is missing from the file list: patient_086_node_4.tif - skipping.\n",
      "Annotation file: ../data/annotations/patient_087_node_0.xml\n",
      "Warning - This file is missing from the file list: patient_087_node_0.tif - skipping.\n",
      "Annotation file: ../data/annotations/patient_088_node_1.xml\n",
      "Warning - This file is missing from the file list: patient_088_node_1.tif - skipping.\n",
      "Annotation file: ../data/annotations/patient_089_node_3.xml\n",
      "Warning - This file is missing from the file list: patient_089_node_3.tif - skipping.\n",
      "Annotation file: ../data/annotations/patient_092_node_1.xml\n",
      "Warning - This file is missing from the file list: patient_092_node_1.tif - skipping.\n",
      "Annotation file: ../data/annotations/patient_096_node_0.xml\n",
      "Warning - This file is missing from the file list: patient_096_node_0.tif - skipping.\n",
      "Annotation file: ../data/annotations/patient_099_node_4.xml\n",
      "Warning - This file is missing from the file list: patient_099_node_4.tif - skipping.\n"
     ]
    }
   ],
   "source": [
    "from tqdm.notebook import tqdm\n",
    "\n",
    "for f in tqdm(AnnotationFiles, 'Creating masks...'):\n",
    "    print('Annotation file: ' + f)\n",
    "    CreateAnnotationMask(f)\n"
   ]
  },
  {
   "cell_type": "code",
   "execution_count": null,
   "metadata": {},
   "outputs": [],
   "source": []
  }
 ],
 "metadata": {
  "kernelspec": {
   "display_name": "torch",
   "language": "python",
   "name": "python3"
  },
  "language_info": {
   "codemirror_mode": {
    "name": "ipython",
    "version": 3
   },
   "file_extension": ".py",
   "mimetype": "text/x-python",
   "name": "python",
   "nbconvert_exporter": "python",
   "pygments_lexer": "ipython3",
   "version": "3.10.13"
  }
 },
 "nbformat": 4,
 "nbformat_minor": 2
}
